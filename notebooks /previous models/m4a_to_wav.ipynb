{
 "cells": [
  {
   "cell_type": "code",
   "execution_count": 7,
   "id": "5d11c519-3b75-45f0-ba29-04b4de285597",
   "metadata": {},
   "outputs": [],
   "source": [
    "from pydub import AudioSegment\n",
    "\n",
    "# Convert m4a to wav\n",
    "def convert_m4a_to_wav(source_path, target_path):\n",
    "    # Load the m4a file\n",
    "    audio = AudioSegment.from_file(source_path, format=\"m4a\")\n",
    "    \n",
    "    # Export as wav\n",
    "    audio.export(target_path, format=\"wav\")\n",
    "\n",
    "# Replace 'path_to_file.m4a' with the actual path to your m4a file\n",
    "# Replace 'output_path.wav' with the desired output path for the wav file\n",
    "convert_m4a_to_wav('/Users/irk2w/Downloads/New Recording 68.m4a', '/Users/irk2w/Downloads/New Recording 68.wav')"
   ]
  },
  {
   "cell_type": "code",
   "execution_count": null,
   "id": "2d0d1931-cbc5-4b8f-a2ba-a6264bcd0a14",
   "metadata": {},
   "outputs": [],
   "source": []
  }
 ],
 "metadata": {
  "kernelspec": {
   "display_name": "Python 3 (ipykernel)",
   "language": "python",
   "name": "python3"
  },
  "language_info": {
   "codemirror_mode": {
    "name": "ipython",
    "version": 3
   },
   "file_extension": ".py",
   "mimetype": "text/x-python",
   "name": "python",
   "nbconvert_exporter": "python",
   "pygments_lexer": "ipython3",
   "version": "3.11.0"
  }
 },
 "nbformat": 4,
 "nbformat_minor": 5
}
